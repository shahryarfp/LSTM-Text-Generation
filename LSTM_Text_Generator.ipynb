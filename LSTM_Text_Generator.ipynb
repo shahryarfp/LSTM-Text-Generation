{
  "cells": [
    {
      "cell_type": "code",
      "source": [
        "from keras.models import Sequential\n",
        "from keras.layers import Dense, Dropout, LSTM\n",
        "from tensorflow.keras.optimizers import RMSprop\n",
        "from keras.callbacks import ModelCheckpoint\n",
        "from matplotlib import pyplot as plt\n",
        "import numpy as np\n",
        "import random\n",
        "import copy"
      ],
      "metadata": {
        "id": "9TBc3TLJuWFT"
      },
      "id": "9TBc3TLJuWFT",
      "execution_count": 6,
      "outputs": []
    },
    {
      "cell_type": "markdown",
      "source": [
        "## Loading Text File"
      ],
      "metadata": {
        "id": "XonqrPFox3T3"
      },
      "id": "XonqrPFox3T3"
    },
    {
      "cell_type": "code",
      "source": [
        "filename = \"/content/dataset.txt\"\n",
        "all_text = open(filename, 'r', encoding='utf-8').read().lower()\n",
        "print('Num Of Chars:', len(all_text))\n",
        "print('____________________ \\n')\n",
        "print(all_text[0:150])"
      ],
      "metadata": {
        "colab": {
          "base_uri": "https://localhost:8080/"
        },
        "id": "ZeXDKouvuWHt",
        "outputId": "dceef15f-9fa9-459b-b4f0-be9cdd2eba50"
      },
      "id": "ZeXDKouvuWHt",
      "execution_count": 7,
      "outputs": [
        {
          "output_type": "stream",
          "name": "stdout",
          "text": [
            "Num Of Chars: 1107542\n",
            "____________________ \n",
            "\n",
            "harry potter and the goblet of fire\n",
            "\n",
            "chapter one - the riddle house\n",
            "\n",
            "\tthe villagers of little hangleron still called it \"the riddle house,\" even thoug\n"
          ]
        }
      ]
    },
    {
      "cell_type": "markdown",
      "source": [
        "## Preprocessing"
      ],
      "metadata": {
        "id": "xkDUzvEFzAW9"
      },
      "id": "xkDUzvEFzAW9"
    },
    {
      "cell_type": "code",
      "source": [
        "#In first step text was converted to a lower case\n",
        "#removing numbers\n",
        "all_text = ''.join(c for c in all_text if not c.isdigit())\n",
        "\n",
        "#removing non alphabetic chars\n",
        "values = list(\"abcdefghijklmnopqrstuvwxyzABCDEFGHIJKLMNOPQRSTUVWXYZ \")\n",
        "values.append('\\n')\n",
        "def remove_non_alpha(my_string = \"\"):\n",
        "  for item in my_string:\n",
        "    if item not in values:\n",
        "      my_string = my_string.replace(item, \"\")\n",
        "  return my_string\n",
        "\n",
        "all_text = remove_non_alpha(all_text)"
      ],
      "metadata": {
        "id": "ll5l5j9Wy_w2"
      },
      "id": "ll5l5j9Wy_w2",
      "execution_count": 8,
      "outputs": []
    },
    {
      "cell_type": "code",
      "source": [
        "chars = sorted(list(set(all_text)))\n",
        "print('Num of chars in a text:', len(all_text))\n",
        "print('Num of char types in a text:', len(chars))"
      ],
      "metadata": {
        "colab": {
          "base_uri": "https://localhost:8080/"
        },
        "id": "2M2liM3Zz1yw",
        "outputId": "a4bae20c-295e-4381-c81e-c016cece4b88"
      },
      "id": "2M2liM3Zz1yw",
      "execution_count": 9,
      "outputs": [
        {
          "output_type": "stream",
          "name": "stdout",
          "text": [
            "Num of chars in a text: 1050393\n",
            "Num of char types in a text: 28\n"
          ]
        }
      ]
    },
    {
      "cell_type": "code",
      "source": [
        "#dictionary of chars mapped to int\n",
        "char_to_int_dict = dict((c, i) for i, c in enumerate(chars))\n",
        "print('Char to int dict:\\n',char_to_int_dict)\n",
        "#dictionary of int mapped to chars\n",
        "int_to_char_dict = dict((i, c) for i, c in enumerate(chars))\n",
        "print('Int to char dict:\\n',int_to_char_dict)"
      ],
      "metadata": {
        "colab": {
          "base_uri": "https://localhost:8080/"
        },
        "id": "d6wYLDZouWL-",
        "outputId": "be00476f-2416-4e68-9632-83aea1fbf913"
      },
      "id": "d6wYLDZouWL-",
      "execution_count": 79,
      "outputs": [
        {
          "output_type": "stream",
          "name": "stdout",
          "text": [
            "Char to int dict:\n",
            " {'\\n': 0, ' ': 1, 'a': 2, 'b': 3, 'c': 4, 'd': 5, 'e': 6, 'f': 7, 'g': 8, 'h': 9, 'i': 10, 'j': 11, 'k': 12, 'l': 13, 'm': 14, 'n': 15, 'o': 16, 'p': 17, 'q': 18, 'r': 19, 's': 20, 't': 21, 'u': 22, 'v': 23, 'w': 24, 'x': 25, 'y': 26, 'z': 27}\n",
            "Int to char dict:\n",
            " {0: '\\n', 1: ' ', 2: 'a', 3: 'b', 4: 'c', 5: 'd', 6: 'e', 7: 'f', 8: 'g', 9: 'h', 10: 'i', 11: 'j', 12: 'k', 13: 'l', 14: 'm', 15: 'n', 16: 'o', 17: 'p', 18: 'q', 19: 'r', 20: 's', 21: 't', 22: 'u', 23: 'v', 24: 'w', 25: 'x', 26: 'y', 27: 'z'}\n"
          ]
        }
      ]
    },
    {
      "cell_type": "markdown",
      "source": [
        "## Doing the Basics of Algorithm"
      ],
      "metadata": {
        "id": "hBASHXcaL1qs"
      },
      "id": "hBASHXcaL1qs"
    },
    {
      "cell_type": "code",
      "source": [
        "seq_length = 65\n",
        "jump = 10\n",
        "sentences = []\n",
        "next_chars = []\n",
        "for i in range(0, len(all_text) - seq_length, jump):\n",
        "  sentences.append(all_text[i: i + seq_length])\n",
        "  next_chars.append(all_text[i + seq_length])\n",
        "print('for example:\\n\\n', sentences[0], '\\n\\nwe have to predict:', next_chars[0])"
      ],
      "metadata": {
        "id": "ixoga4LruWRn",
        "colab": {
          "base_uri": "https://localhost:8080/"
        },
        "outputId": "a6e17f4f-b4ea-4d4f-d64d-8c097fcaa185"
      },
      "id": "ixoga4LruWRn",
      "execution_count": 11,
      "outputs": [
        {
          "output_type": "stream",
          "name": "stdout",
          "text": [
            "for example:\n",
            "\n",
            " harry potter and the goblet of fire\n",
            "\n",
            "chapter one  the riddle hous \n",
            "\n",
            "we have to predict: e\n"
          ]
        }
      ]
    },
    {
      "cell_type": "code",
      "source": [
        "x = np.zeros((len(sentences), seq_length, len(chars)), dtype=np.bool)\n",
        "y = np.zeros((len(sentences), len(chars)), dtype=np.bool)\n",
        "for i, sentence in enumerate(sentences):\n",
        "  for t, char in enumerate(sentence):\n",
        "    x[i, t, char_to_int_dict[char]] = True\n",
        "  y[i, char_to_int_dict[next_chars[i]]] = True\n",
        "\n",
        "print('x shape:', x.shape)\n",
        "print('y shape:', y.shape)\n",
        "print('x[0]:\\n', x[0])\n",
        "print('y[0]:\\n', y[0])"
      ],
      "metadata": {
        "id": "CGAxESONuWmn",
        "colab": {
          "base_uri": "https://localhost:8080/"
        },
        "outputId": "98a087c2-88a8-48a0-ebf1-737d8c9dbe92"
      },
      "id": "CGAxESONuWmn",
      "execution_count": 12,
      "outputs": [
        {
          "output_type": "stream",
          "name": "stderr",
          "text": [
            "/usr/local/lib/python3.7/dist-packages/ipykernel_launcher.py:1: DeprecationWarning: `np.bool` is a deprecated alias for the builtin `bool`. To silence this warning, use `bool` by itself. Doing this will not modify any behavior and is safe. If you specifically wanted the numpy scalar type, use `np.bool_` here.\n",
            "Deprecated in NumPy 1.20; for more details and guidance: https://numpy.org/devdocs/release/1.20.0-notes.html#deprecations\n",
            "  \"\"\"Entry point for launching an IPython kernel.\n",
            "/usr/local/lib/python3.7/dist-packages/ipykernel_launcher.py:2: DeprecationWarning: `np.bool` is a deprecated alias for the builtin `bool`. To silence this warning, use `bool` by itself. Doing this will not modify any behavior and is safe. If you specifically wanted the numpy scalar type, use `np.bool_` here.\n",
            "Deprecated in NumPy 1.20; for more details and guidance: https://numpy.org/devdocs/release/1.20.0-notes.html#deprecations\n",
            "  \n"
          ]
        },
        {
          "output_type": "stream",
          "name": "stdout",
          "text": [
            "x shape: (105033, 65, 28)\n",
            "y shape: (105033, 28)\n",
            "x[0]:\n",
            " [[False False False ... False False False]\n",
            " [False False  True ... False False False]\n",
            " [False False False ... False False False]\n",
            " ...\n",
            " [False False False ... False False False]\n",
            " [False False False ... False False False]\n",
            " [False False False ... False False False]]\n",
            "y[0]:\n",
            " [False False False False False False  True False False False False False\n",
            " False False False False False False False False False False False False\n",
            " False False False False]\n"
          ]
        }
      ]
    },
    {
      "cell_type": "markdown",
      "source": [
        "## Creating the Model"
      ],
      "metadata": {
        "id": "JXkX3VoXmpG_"
      },
      "id": "JXkX3VoXmpG_"
    },
    {
      "cell_type": "code",
      "source": [
        "#Two LSTM layer used\n",
        "model = Sequential()\n",
        "model.add(LSTM(64, input_shape=(seq_length, len(chars)), return_sequences = True))\n",
        "model.add(Dropout(0.25))\n",
        "model.add(LSTM(64))\n",
        "model.add(Dropout(0.25))\n",
        "model.add(Dense(len(chars), activation = 'softmax'))\n",
        "\n",
        "my_optimizer = RMSprop(lr = 0.01)\n",
        "# my_optimizer = 'adam'\n",
        "# my_optimizer = 'SGD'\n",
        "\n",
        "# my_loss = 'categorical_crossentropy'\n",
        "my_loss = \"binary_crossentropy\"\n",
        "# my_loss = \"kl_divergence\"\n",
        "\n",
        "model.compile(loss = my_loss, optimizer = my_optimizer, metrics = ['accuracy'])\n",
        "model.summary()"
      ],
      "metadata": {
        "id": "yMYBuIg6uWou",
        "colab": {
          "base_uri": "https://localhost:8080/"
        },
        "outputId": "db7d5bd5-3a0e-4a09-f80c-ca259285d1a2"
      },
      "id": "yMYBuIg6uWou",
      "execution_count": 73,
      "outputs": [
        {
          "output_type": "stream",
          "name": "stdout",
          "text": [
            "Model: \"sequential_11\"\n",
            "_________________________________________________________________\n",
            " Layer (type)                Output Shape              Param #   \n",
            "=================================================================\n",
            " lstm_21 (LSTM)              (None, 65, 64)            23808     \n",
            "                                                                 \n",
            " dropout_20 (Dropout)        (None, 65, 64)            0         \n",
            "                                                                 \n",
            " lstm_22 (LSTM)              (None, 64)                33024     \n",
            "                                                                 \n",
            " dropout_21 (Dropout)        (None, 64)                0         \n",
            "                                                                 \n",
            " dense_11 (Dense)            (None, 28)                1820      \n",
            "                                                                 \n",
            "=================================================================\n",
            "Total params: 58,652\n",
            "Trainable params: 58,652\n",
            "Non-trainable params: 0\n",
            "_________________________________________________________________\n"
          ]
        },
        {
          "output_type": "stream",
          "name": "stderr",
          "text": [
            "/usr/local/lib/python3.7/dist-packages/keras/optimizer_v2/rmsprop.py:130: UserWarning: The `lr` argument is deprecated, use `learning_rate` instead.\n",
            "  super(RMSprop, self).__init__(name, **kwargs)\n"
          ]
        }
      ]
    },
    {
      "cell_type": "markdown",
      "source": [
        "## Fitting the Model"
      ],
      "metadata": {
        "id": "xDUl7Y2MohS_"
      },
      "id": "xDUl7Y2MohS_"
    },
    {
      "cell_type": "code",
      "source": [
        "history = model.fit(x, y, batch_size = 128, epochs = 60, validation_split = 0.15)"
      ],
      "metadata": {
        "id": "9A9TBnCQuWrL",
        "colab": {
          "base_uri": "https://localhost:8080/"
        },
        "outputId": "464b61b9-f9a3-4fd8-da46-884ee79625d9"
      },
      "id": "9A9TBnCQuWrL",
      "execution_count": 74,
      "outputs": [
        {
          "output_type": "stream",
          "name": "stdout",
          "text": [
            "Epoch 1/60\n",
            "698/698 [==============================] - 12s 14ms/step - loss: 0.1214 - accuracy: 0.2955 - val_loss: 0.1016 - val_accuracy: 0.3992\n",
            "Epoch 2/60\n",
            "698/698 [==============================] - 9s 12ms/step - loss: 0.1021 - accuracy: 0.4062 - val_loss: 0.0933 - val_accuracy: 0.4411\n",
            "Epoch 3/60\n",
            "698/698 [==============================] - 9s 12ms/step - loss: 0.0964 - accuracy: 0.4404 - val_loss: 0.0894 - val_accuracy: 0.4625\n",
            "Epoch 4/60\n",
            "698/698 [==============================] - 9s 12ms/step - loss: 0.0933 - accuracy: 0.4588 - val_loss: 0.0880 - val_accuracy: 0.4708\n",
            "Epoch 5/60\n",
            "698/698 [==============================] - 9s 12ms/step - loss: 0.0912 - accuracy: 0.4711 - val_loss: 0.0857 - val_accuracy: 0.4904\n",
            "Epoch 6/60\n",
            "698/698 [==============================] - 9s 12ms/step - loss: 0.0898 - accuracy: 0.4799 - val_loss: 0.0846 - val_accuracy: 0.4948\n",
            "Epoch 7/60\n",
            "698/698 [==============================] - 9s 12ms/step - loss: 0.0885 - accuracy: 0.4865 - val_loss: 0.0838 - val_accuracy: 0.4979\n",
            "Epoch 8/60\n",
            "698/698 [==============================] - 9s 12ms/step - loss: 0.0878 - accuracy: 0.4915 - val_loss: 0.0836 - val_accuracy: 0.4995\n",
            "Epoch 9/60\n",
            "698/698 [==============================] - 9s 12ms/step - loss: 0.0871 - accuracy: 0.4951 - val_loss: 0.0837 - val_accuracy: 0.5063\n",
            "Epoch 10/60\n",
            "698/698 [==============================] - 9s 13ms/step - loss: 0.0865 - accuracy: 0.4985 - val_loss: 0.0829 - val_accuracy: 0.5050\n",
            "Epoch 11/60\n",
            "698/698 [==============================] - 9s 13ms/step - loss: 0.0861 - accuracy: 0.4994 - val_loss: 0.0828 - val_accuracy: 0.5078\n",
            "Epoch 12/60\n",
            "698/698 [==============================] - 9s 13ms/step - loss: 0.0857 - accuracy: 0.5028 - val_loss: 0.0821 - val_accuracy: 0.5115\n",
            "Epoch 13/60\n",
            "698/698 [==============================] - 9s 12ms/step - loss: 0.0852 - accuracy: 0.5068 - val_loss: 0.0822 - val_accuracy: 0.5109\n",
            "Epoch 14/60\n",
            "698/698 [==============================] - 9s 12ms/step - loss: 0.0850 - accuracy: 0.5060 - val_loss: 0.0822 - val_accuracy: 0.5094\n",
            "Epoch 15/60\n",
            "698/698 [==============================] - 9s 12ms/step - loss: 0.0847 - accuracy: 0.5082 - val_loss: 0.0818 - val_accuracy: 0.5163\n",
            "Epoch 16/60\n",
            "698/698 [==============================] - 9s 12ms/step - loss: 0.0843 - accuracy: 0.5107 - val_loss: 0.0814 - val_accuracy: 0.5154\n",
            "Epoch 17/60\n",
            "698/698 [==============================] - 9s 12ms/step - loss: 0.0841 - accuracy: 0.5125 - val_loss: 0.0816 - val_accuracy: 0.5177\n",
            "Epoch 18/60\n",
            "698/698 [==============================] - 9s 12ms/step - loss: 0.0838 - accuracy: 0.5146 - val_loss: 0.0813 - val_accuracy: 0.5164\n",
            "Epoch 19/60\n",
            "698/698 [==============================] - 9s 12ms/step - loss: 0.0838 - accuracy: 0.5136 - val_loss: 0.0810 - val_accuracy: 0.5202\n",
            "Epoch 20/60\n",
            "698/698 [==============================] - 9s 13ms/step - loss: 0.0834 - accuracy: 0.5167 - val_loss: 0.0809 - val_accuracy: 0.5185\n",
            "Epoch 21/60\n",
            "698/698 [==============================] - 9s 13ms/step - loss: 0.0834 - accuracy: 0.5172 - val_loss: 0.0810 - val_accuracy: 0.5181\n",
            "Epoch 22/60\n",
            "698/698 [==============================] - 9s 12ms/step - loss: 0.0831 - accuracy: 0.5180 - val_loss: 0.0809 - val_accuracy: 0.5200\n",
            "Epoch 23/60\n",
            "698/698 [==============================] - 9s 13ms/step - loss: 0.0831 - accuracy: 0.5199 - val_loss: 0.0809 - val_accuracy: 0.5172\n",
            "Epoch 24/60\n",
            "698/698 [==============================] - 9s 12ms/step - loss: 0.0830 - accuracy: 0.5197 - val_loss: 0.0808 - val_accuracy: 0.5216\n",
            "Epoch 25/60\n",
            "698/698 [==============================] - 9s 13ms/step - loss: 0.0828 - accuracy: 0.5218 - val_loss: 0.0804 - val_accuracy: 0.5215\n",
            "Epoch 26/60\n",
            "698/698 [==============================] - 9s 13ms/step - loss: 0.0827 - accuracy: 0.5211 - val_loss: 0.0804 - val_accuracy: 0.5234\n",
            "Epoch 27/60\n",
            "698/698 [==============================] - 9s 12ms/step - loss: 0.0825 - accuracy: 0.5223 - val_loss: 0.0804 - val_accuracy: 0.5227\n",
            "Epoch 28/60\n",
            "698/698 [==============================] - 9s 12ms/step - loss: 0.0826 - accuracy: 0.5224 - val_loss: 0.0803 - val_accuracy: 0.5247\n",
            "Epoch 29/60\n",
            "698/698 [==============================] - 9s 12ms/step - loss: 0.0822 - accuracy: 0.5257 - val_loss: 0.0806 - val_accuracy: 0.5226\n",
            "Epoch 30/60\n",
            "698/698 [==============================] - 9s 13ms/step - loss: 0.0822 - accuracy: 0.5244 - val_loss: 0.0802 - val_accuracy: 0.5268\n",
            "Epoch 31/60\n",
            "698/698 [==============================] - 9s 12ms/step - loss: 0.0822 - accuracy: 0.5239 - val_loss: 0.0802 - val_accuracy: 0.5233\n",
            "Epoch 32/60\n",
            "698/698 [==============================] - 9s 13ms/step - loss: 0.0822 - accuracy: 0.5242 - val_loss: 0.0801 - val_accuracy: 0.5272\n",
            "Epoch 33/60\n",
            "698/698 [==============================] - 9s 12ms/step - loss: 0.0820 - accuracy: 0.5262 - val_loss: 0.0805 - val_accuracy: 0.5231\n",
            "Epoch 34/60\n",
            "698/698 [==============================] - 9s 12ms/step - loss: 0.0819 - accuracy: 0.5273 - val_loss: 0.0805 - val_accuracy: 0.5272\n",
            "Epoch 35/60\n",
            "698/698 [==============================] - 9s 13ms/step - loss: 0.0817 - accuracy: 0.5263 - val_loss: 0.0803 - val_accuracy: 0.5268\n",
            "Epoch 36/60\n",
            "698/698 [==============================] - 9s 13ms/step - loss: 0.0817 - accuracy: 0.5281 - val_loss: 0.0799 - val_accuracy: 0.5278\n",
            "Epoch 37/60\n",
            "698/698 [==============================] - 9s 13ms/step - loss: 0.0816 - accuracy: 0.5273 - val_loss: 0.0800 - val_accuracy: 0.5229\n",
            "Epoch 38/60\n",
            "698/698 [==============================] - 9s 12ms/step - loss: 0.0816 - accuracy: 0.5283 - val_loss: 0.0801 - val_accuracy: 0.5252\n",
            "Epoch 39/60\n",
            "698/698 [==============================] - 9s 12ms/step - loss: 0.0816 - accuracy: 0.5286 - val_loss: 0.0799 - val_accuracy: 0.5246\n",
            "Epoch 40/60\n",
            "698/698 [==============================] - 9s 12ms/step - loss: 0.0815 - accuracy: 0.5277 - val_loss: 0.0802 - val_accuracy: 0.5250\n",
            "Epoch 41/60\n",
            "698/698 [==============================] - 9s 12ms/step - loss: 0.0816 - accuracy: 0.5295 - val_loss: 0.0796 - val_accuracy: 0.5297\n",
            "Epoch 42/60\n",
            "698/698 [==============================] - 9s 12ms/step - loss: 0.0814 - accuracy: 0.5285 - val_loss: 0.0795 - val_accuracy: 0.5269\n",
            "Epoch 43/60\n",
            "698/698 [==============================] - 9s 12ms/step - loss: 0.0814 - accuracy: 0.5297 - val_loss: 0.0798 - val_accuracy: 0.5282\n",
            "Epoch 44/60\n",
            "698/698 [==============================] - 9s 12ms/step - loss: 0.0813 - accuracy: 0.5300 - val_loss: 0.0797 - val_accuracy: 0.5311\n",
            "Epoch 45/60\n",
            "698/698 [==============================] - 9s 13ms/step - loss: 0.0811 - accuracy: 0.5302 - val_loss: 0.0799 - val_accuracy: 0.5302\n",
            "Epoch 46/60\n",
            "698/698 [==============================] - 9s 13ms/step - loss: 0.0812 - accuracy: 0.5300 - val_loss: 0.0804 - val_accuracy: 0.5262\n",
            "Epoch 47/60\n",
            "698/698 [==============================] - 9s 12ms/step - loss: 0.0814 - accuracy: 0.5290 - val_loss: 0.0798 - val_accuracy: 0.5276\n",
            "Epoch 48/60\n",
            "698/698 [==============================] - 9s 12ms/step - loss: 0.0811 - accuracy: 0.5315 - val_loss: 0.0799 - val_accuracy: 0.5305\n",
            "Epoch 49/60\n",
            "698/698 [==============================] - 9s 12ms/step - loss: 0.0811 - accuracy: 0.5313 - val_loss: 0.0796 - val_accuracy: 0.5269\n",
            "Epoch 50/60\n",
            "698/698 [==============================] - 9s 12ms/step - loss: 0.0811 - accuracy: 0.5316 - val_loss: 0.0799 - val_accuracy: 0.5320\n",
            "Epoch 51/60\n",
            "698/698 [==============================] - 9s 12ms/step - loss: 0.0811 - accuracy: 0.5310 - val_loss: 0.0800 - val_accuracy: 0.5295\n",
            "Epoch 52/60\n",
            "698/698 [==============================] - 9s 12ms/step - loss: 0.0811 - accuracy: 0.5321 - val_loss: 0.0796 - val_accuracy: 0.5283\n",
            "Epoch 53/60\n",
            "698/698 [==============================] - 9s 12ms/step - loss: 0.0808 - accuracy: 0.5319 - val_loss: 0.0800 - val_accuracy: 0.5266\n",
            "Epoch 54/60\n",
            "698/698 [==============================] - 9s 13ms/step - loss: 0.0809 - accuracy: 0.5320 - val_loss: 0.0796 - val_accuracy: 0.5276\n",
            "Epoch 55/60\n",
            "698/698 [==============================] - 9s 12ms/step - loss: 0.0808 - accuracy: 0.5320 - val_loss: 0.0798 - val_accuracy: 0.5278\n",
            "Epoch 56/60\n",
            "698/698 [==============================] - 9s 12ms/step - loss: 0.0810 - accuracy: 0.5321 - val_loss: 0.0796 - val_accuracy: 0.5294\n",
            "Epoch 57/60\n",
            "698/698 [==============================] - 9s 12ms/step - loss: 0.0808 - accuracy: 0.5326 - val_loss: 0.0796 - val_accuracy: 0.5311\n",
            "Epoch 58/60\n",
            "698/698 [==============================] - 9s 12ms/step - loss: 0.0814 - accuracy: 0.5316 - val_loss: 0.0797 - val_accuracy: 0.5319\n",
            "Epoch 59/60\n",
            "698/698 [==============================] - 9s 12ms/step - loss: 0.0809 - accuracy: 0.5340 - val_loss: 0.0797 - val_accuracy: 0.5315\n",
            "Epoch 60/60\n",
            "698/698 [==============================] - 9s 12ms/step - loss: 0.0808 - accuracy: 0.5331 - val_loss: 0.0800 - val_accuracy: 0.5294\n"
          ]
        }
      ]
    },
    {
      "cell_type": "markdown",
      "source": [
        "## Results"
      ],
      "metadata": {
        "id": "k85_t5Js0iol"
      },
      "id": "k85_t5Js0iol"
    },
    {
      "cell_type": "code",
      "source": [
        "plt.plot(history.history['loss'])\n",
        "plt.plot(history.history['val_loss'])\n",
        "plt.title('model loss')\n",
        "plt.ylabel('loss')\n",
        "plt.xlabel('epoch')\n",
        "plt.legend(['train', 'validation'])\n",
        "plt.show()"
      ],
      "metadata": {
        "colab": {
          "base_uri": "https://localhost:8080/",
          "height": 295
        },
        "id": "TMs0DSMssX1u",
        "outputId": "c70dd2f3-fc73-4af6-ed16-190581c7835c"
      },
      "id": "TMs0DSMssX1u",
      "execution_count": 75,
      "outputs": [
        {
          "output_type": "display_data",
          "data": {
            "text/plain": [
              "<Figure size 432x288 with 1 Axes>"
            ],
            "image/png": "[encoded data removed]"
          },
          "metadata": {
            "needs_background": "light"
          }
        }
      ]
    },
    {
      "cell_type": "code",
      "source": [
        "plt.plot(history.history['accuracy'])\n",
        "plt.plot(history.history['val_accuracy'])\n",
        "plt.title('model accuracy')\n",
        "plt.ylabel('accuracy')\n",
        "plt.xlabel('epoch')\n",
        "plt.legend(['train', 'validation'])\n",
        "plt.show()"
      ],
      "metadata": {
        "id": "Sm7gXpvEuWtH",
        "colab": {
          "base_uri": "https://localhost:8080/",
          "height": 295
        },
        "outputId": "2b129538-0bc5-4c0b-c548-d68259ad4413"
      },
      "id": "Sm7gXpvEuWtH",
      "execution_count": 76,
      "outputs": [
        {
          "output_type": "display_data",
          "data": {
            "text/plain": [
              "<Figure size 432x288 with 1 Axes>"
            ],
            "image/png": "[encoded data removed]"
          },
          "metadata": {
            "needs_background": "light"
          }
        }
      ]
    },
    {
      "cell_type": "markdown",
      "source": [
        "## Generating Text"
      ],
      "metadata": {
        "id": "sJsqBnqPbe0L"
      },
      "id": "sJsqBnqPbe0L"
    },
    {
      "cell_type": "code",
      "source": [
        "def find_next_char(preds):\n",
        "  preds = np.asarray(preds).astype('float64')\n",
        "  preds_ = np.exp(np.log(preds))\n",
        "  return int_to_char_dict[np.argmax(np.random.multinomial(1, preds_ / np.sum(preds_), 1))]\n",
        "\n",
        "start_index = random.randint(0, len(all_text) - 300)\n",
        "sentence = all_text[start_index: start_index + seq_length]\n",
        "generated = ''\n",
        "initial_sentence = copy.deepcopy(sentence)\n",
        "\n",
        "for i in range(200):\n",
        "  x_pred = np.zeros((1, seq_length, len(chars)))\n",
        "  for t, char in enumerate(sentence):\n",
        "    x_pred[0, t, char_to_int_dict[char]] = True\n",
        "  preds = model.predict(x_pred)[0]\n",
        "  next_char = find_next_char(preds)\n",
        "  generated += next_char\n",
        "  sentence = sentence[1:] + next_char\n",
        "\n",
        "print('\\nInitial Sentence:\\n', initial_sentence,'\\n')\n",
        "print('Generated after initial sentence:\\n','...', generated)"
      ],
      "metadata": {
        "id": "JMNtTId5uWyS",
        "colab": {
          "base_uri": "https://localhost:8080/"
        },
        "outputId": "7c724aeb-1b50-4537-8c01-d1716a14b636"
      },
      "id": "JMNtTId5uWyS",
      "execution_count": 85,
      "outputs": [
        {
          "output_type": "stream",
          "name": "stdout",
          "text": [
            "\n",
            "Initial Sentence:\n",
            "  of rotting fish  every now and then sparks would fly out of the  \n",
            "\n",
            "Generated after initial sentence:\n",
            " ... wame of donist get they was abaut what their the poened hagrid  got magic of the toppord at theard ingennoffots he and himseln stairs and wordly as frether a peblight of the look  you they had because\n"
          ]
        }
      ]
    },
    {
      "cell_type": "code",
      "source": [
        ""
      ],
      "metadata": {
        "id": "gqxeXatUqd1l"
      },
      "id": "gqxeXatUqd1l",
      "execution_count": null,
      "outputs": []
    }
  ],
  "metadata": {
    "kernelspec": {
      "display_name": "Python 3 (ipykernel)",
      "language": "python",
      "name": "python3"
    },
    "language_info": {
      "codemirror_mode": {
        "name": "ipython",
        "version": 3
      },
      "file_extension": ".py",
      "mimetype": "text/x-python",
      "name": "python",
      "nbconvert_exporter": "python",
      "pygments_lexer": "ipython3",
      "version": "3.9.7"
    },
    "colab": {
      "name": "LSTM_Text_Generator.ipynb",
      "provenance": [],
      "collapsed_sections": []
    },
    "accelerator": "GPU"
  },
  "nbformat": 4,
  "nbformat_minor": 5
}